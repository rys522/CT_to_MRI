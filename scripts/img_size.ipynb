{
 "cells": [
  {
   "cell_type": "code",
   "execution_count": null,
   "id": "9918bf1d",
   "metadata": {},
   "outputs": [
    {
     "ename": "FileNotFoundError",
     "evalue": "No such file or no access: '/fast_storage/intern1/Task1/brain/1BA172/ct.nii.gz'",
     "output_type": "error",
     "traceback": [
      "\u001b[0;31m---------------------------------------------------------------------------\u001b[0m",
      "\u001b[0;31mFileNotFoundError\u001b[0m                         Traceback (most recent call last)",
      "File \u001b[0;32m~/.conda/envs/pytorch-gpu/lib/python3.10/site-packages/nibabel/loadsave.py:101\u001b[0m, in \u001b[0;36mload\u001b[0;34m(filename, **kwargs)\u001b[0m\n\u001b[1;32m    100\u001b[0m \u001b[38;5;28;01mtry\u001b[39;00m:\n\u001b[0;32m--> 101\u001b[0m     stat_result \u001b[38;5;241m=\u001b[39m \u001b[43mos\u001b[49m\u001b[38;5;241;43m.\u001b[39;49m\u001b[43mstat\u001b[49m\u001b[43m(\u001b[49m\u001b[43mfilename\u001b[49m\u001b[43m)\u001b[49m\n\u001b[1;32m    102\u001b[0m \u001b[38;5;28;01mexcept\u001b[39;00m \u001b[38;5;167;01mOSError\u001b[39;00m:\n",
      "\u001b[0;31mFileNotFoundError\u001b[0m: [Errno 2] No such file or directory: '/fast_storage/intern1/Task1/brain/1BA172/ct.nii.gz'",
      "\nDuring handling of the above exception, another exception occurred:\n",
      "\u001b[0;31mFileNotFoundError\u001b[0m                         Traceback (most recent call last)",
      "Cell \u001b[0;32mIn[7], line 15\u001b[0m\n\u001b[1;32m     12\u001b[0m mask_path \u001b[38;5;241m=\u001b[39m DATA_ROOT \u001b[38;5;241m/\u001b[39m \u001b[38;5;124m\"\u001b[39m\u001b[38;5;124mmask.nii.gz\u001b[39m\u001b[38;5;124m\"\u001b[39m \n\u001b[1;32m     14\u001b[0m \u001b[38;5;66;03m# Load NIfTI files\u001b[39;00m\n\u001b[0;32m---> 15\u001b[0m ct \u001b[38;5;241m=\u001b[39m \u001b[43mnib\u001b[49m\u001b[38;5;241;43m.\u001b[39;49m\u001b[43mload\u001b[49m\u001b[43m(\u001b[49m\u001b[43mct_path\u001b[49m\u001b[43m)\u001b[49m\u001b[38;5;241m.\u001b[39mget_fdata()\n\u001b[1;32m     16\u001b[0m mr \u001b[38;5;241m=\u001b[39m nib\u001b[38;5;241m.\u001b[39mload(mri_path)\u001b[38;5;241m.\u001b[39mget_fdata()\n\u001b[1;32m     17\u001b[0m mask \u001b[38;5;241m=\u001b[39m nib\u001b[38;5;241m.\u001b[39mload(mask_path)\u001b[38;5;241m.\u001b[39mget_fdata()\n",
      "File \u001b[0;32m~/.conda/envs/pytorch-gpu/lib/python3.10/site-packages/nibabel/loadsave.py:103\u001b[0m, in \u001b[0;36mload\u001b[0;34m(filename, **kwargs)\u001b[0m\n\u001b[1;32m    101\u001b[0m     stat_result \u001b[38;5;241m=\u001b[39m os\u001b[38;5;241m.\u001b[39mstat(filename)\n\u001b[1;32m    102\u001b[0m \u001b[38;5;28;01mexcept\u001b[39;00m \u001b[38;5;167;01mOSError\u001b[39;00m:\n\u001b[0;32m--> 103\u001b[0m     \u001b[38;5;28;01mraise\u001b[39;00m \u001b[38;5;167;01mFileNotFoundError\u001b[39;00m(\u001b[38;5;124mf\u001b[39m\u001b[38;5;124m\"\u001b[39m\u001b[38;5;124mNo such file or no access: \u001b[39m\u001b[38;5;124m'\u001b[39m\u001b[38;5;132;01m{\u001b[39;00mfilename\u001b[38;5;132;01m}\u001b[39;00m\u001b[38;5;124m'\u001b[39m\u001b[38;5;124m\"\u001b[39m)\n\u001b[1;32m    104\u001b[0m \u001b[38;5;28;01mif\u001b[39;00m stat_result\u001b[38;5;241m.\u001b[39mst_size \u001b[38;5;241m<\u001b[39m\u001b[38;5;241m=\u001b[39m \u001b[38;5;241m0\u001b[39m:\n\u001b[1;32m    105\u001b[0m     \u001b[38;5;28;01mraise\u001b[39;00m ImageFileError(\u001b[38;5;124mf\u001b[39m\u001b[38;5;124m\"\u001b[39m\u001b[38;5;124mEmpty file: \u001b[39m\u001b[38;5;124m'\u001b[39m\u001b[38;5;132;01m{\u001b[39;00mfilename\u001b[38;5;132;01m}\u001b[39;00m\u001b[38;5;124m'\u001b[39m\u001b[38;5;124m\"\u001b[39m)\n",
      "\u001b[0;31mFileNotFoundError\u001b[0m: No such file or no access: '/fast_storage/intern1/Task1/brain/1BA172/ct.nii.gz'"
     ]
    }
   ],
   "source": [
    "import nibabel as nib\n",
    "import matplotlib.pyplot as plt\n",
    "import numpy as np\n",
    "from pathlib import Path\n",
    "\n",
    "# --------- Define paths ---------\n",
    "ROOT_DIR = Path.cwd()\n",
    "DATA_ROOT = ROOT_DIR / \"preprocess/preview\"\n",
    "\n",
    "ct_path = DATA_ROOT / \"ct.nii.gz\"\n",
    "mri_path = DATA_ROOT / \"mri.nii.gz\"\n",
    "tissue_paths = {\n",
    "    \"CSF\": DATA_ROOT / \"tissue_CSF.nii.gz\",\n",
    "    \"GM\": DATA_ROOT / \"tissue_GM.nii.gz\",\n",
    "    \"WM\": DATA_ROOT / \"tissue_WM.nii.gz\",\n",
    "}\n",
    "\n",
    "# --------- Load NIfTI files ---------\n",
    "ct = nib.load(ct_path).get_fdata()\n",
    "mr = nib.load(mri_path).get_fdata()\n",
    "tissue_maps = {label: nib.load(path).get_fdata() for label, path in tissue_paths.items()}\n",
    "\n",
    "# --------- Print shapes ---------\n",
    "print(\"CT shape:\", ct.shape)\n",
    "print(\"MR shape:\", mr.shape)\n",
    "for label, data in tissue_maps.items():\n",
    "    print(f\"{label} tissue shape: {data.shape}\")\n",
    "\n",
    "# --------- Determine central axial slice ---------\n",
    "center_idx = ct.shape[2] // 2\n",
    "\n",
    "# --------- Plot CT / MR / Tissue maps ---------\n",
    "vmin, vmax = 0.0, 1.0\n",
    "\n",
    "plt.figure(figsize=(15, 4))\n",
    "\n",
    "plt.subplot(1, 5, 1)\n",
    "plt.imshow(ct[:, :, center_idx], cmap='gray', vmin=vmin, vmax=vmax)\n",
    "plt.title(\"CT (Axial)\")\n",
    "plt.axis(\"off\")\n",
    "\n",
    "plt.subplot(1, 5, 2)\n",
    "plt.imshow(mr[:, :, center_idx], cmap='gray', vmin=vmin, vmax=vmax)\n",
    "plt.title(\"MR (Axial)\")\n",
    "plt.axis(\"off\")\n",
    "\n",
    "for i, (label, tissue) in enumerate(tissue_maps.items()):\n",
    "    plt.subplot(1, 5, i + 3)\n",
    "    plt.imshow(tissue[:, :, center_idx], cmap='gray', vmin=vmin, vmax=vmax)\n",
    "    plt.title(f\"{label}\")\n",
    "    plt.axis(\"off\")\n",
    "\n",
    "plt.tight_layout()\n",
    "plt.show()"
   ]
  }
 ],
 "metadata": {
  "kernelspec": {
   "display_name": "ipynb-node08",
   "language": "python",
   "name": "pytorch-gpu"
  },
  "language_info": {
   "codemirror_mode": {
    "name": "ipython",
    "version": 3
   },
   "file_extension": ".py",
   "mimetype": "text/x-python",
   "name": "python",
   "nbconvert_exporter": "python",
   "pygments_lexer": "ipython3",
   "version": "3.10.18"
  }
 },
 "nbformat": 4,
 "nbformat_minor": 5
}
