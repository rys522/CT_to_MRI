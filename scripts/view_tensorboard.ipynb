{
 "cells": [
  {
   "cell_type": "code",
   "execution_count": 2,
   "id": "6d151eb9",
   "metadata": {},
   "outputs": [
    {
     "name": "stdout",
     "output_type": "stream",
     "text": [
      "/home/intern1/CT_to_MRI_scratch\n"
     ]
    }
   ],
   "source": [
    "import sys\n",
    "from pathlib import Path\n",
    "\n",
    "sys.path.append(str(Path().absolute().parent))\n",
    "\n",
    "print(Path().absolute().parent)\n"
   ]
  },
  {
   "cell_type": "code",
   "execution_count": 3,
   "id": "b3964b28",
   "metadata": {},
   "outputs": [],
   "source": [
    "import os\n",
    "from pathlib import Path\n",
    "from tensorboard import notebook\n",
    "from params import config\n",
    "\n",
    "log_dir = config.run_dir\n",
    "run_idx = 0\n",
    "\n",
    "tensor_dir = log_dir\n",
    "assert log_dir.exists(), f\"TensorBoard log directory does not exist: {log_dir}\""
   ]
  },
  {
   "cell_type": "code",
   "execution_count": 10,
   "id": "daae967a",
   "metadata": {},
   "outputs": [
    {
     "name": "stdout",
     "output_type": "stream",
     "text": [
      "The tensorboard extension is already loaded. To reload it, use:\n",
      "  %reload_ext tensorboard\n"
     ]
    },
    {
     "data": {
      "text/html": [
       "\n",
       "      <iframe id=\"tensorboard-frame-d6fcc520de3a7cbb\" width=\"100%\" height=\"800\" frameborder=\"0\">\n",
       "      </iframe>\n",
       "      <script>\n",
       "        (function() {\n",
       "          const frame = document.getElementById(\"tensorboard-frame-d6fcc520de3a7cbb\");\n",
       "          const url = new URL(\"/\", window.location);\n",
       "          const port = 6004;\n",
       "          if (port) {\n",
       "            url.port = port;\n",
       "          }\n",
       "          frame.src = url;\n",
       "        })();\n",
       "      </script>\n",
       "    "
      ],
      "text/plain": [
       "<IPython.core.display.HTML object>"
      ]
     },
     "metadata": {},
     "output_type": "display_data"
    }
   ],
   "source": [
    "%load_ext tensorboard\n",
    "%tensorboard --logdir {tensor_dir} --port 6004"
   ]
  },
  {
   "cell_type": "code",
   "execution_count": 7,
   "id": "8a3d0735",
   "metadata": {},
   "outputs": [],
   "source": [
    "%reload_ext tensorboard"
   ]
  },
  {
   "cell_type": "markdown",
   "id": "5c83be1f",
   "metadata": {},
   "source": [
    "ssh -L 16006:localhost:6004 intern1@node08"
   ]
  }
 ],
 "metadata": {
  "kernelspec": {
   "display_name": "ipynb-node08",
   "language": "python",
   "name": "pytorch-gpu"
  },
  "language_info": {
   "codemirror_mode": {
    "name": "ipython",
    "version": 3
   },
   "file_extension": ".py",
   "mimetype": "text/x-python",
   "name": "python",
   "nbconvert_exporter": "python",
   "pygments_lexer": "ipython3",
   "version": "3.10.18"
  }
 },
 "nbformat": 4,
 "nbformat_minor": 5
}
